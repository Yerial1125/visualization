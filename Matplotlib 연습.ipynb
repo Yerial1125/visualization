{
 "cells": [
  {
   "cell_type": "markdown",
   "id": "dea2a6c1",
   "metadata": {},
   "source": [
    "## 6. Matplotlib 사이트 예시_내가 쓴거.."
   ]
  },
  {
   "cell_type": "markdown",
   "id": "04974ffa",
   "metadata": {},
   "source": [
    "https://matplotlib.org/stable/users/explain/figures.html\n",
    "\n",
    "https://matplotlib.org/stable/gallery/index.html"
   ]
  },
  {
   "cell_type": "code",
   "execution_count": null,
   "id": "f8585872",
   "metadata": {},
   "outputs": [],
   "source": []
  },
  {
   "cell_type": "code",
   "execution_count": null,
   "id": "c532848c",
   "metadata": {},
   "outputs": [],
   "source": []
  },
  {
   "cell_type": "code",
   "execution_count": null,
   "id": "7c3b7b92",
   "metadata": {},
   "outputs": [],
   "source": []
  }
 ],
 "metadata": {
  "kernelspec": {
   "display_name": "Python 3 (ipykernel)",
   "language": "python",
   "name": "python3"
  },
  "language_info": {
   "codemirror_mode": {
    "name": "ipython",
    "version": 3
   },
   "file_extension": ".py",
   "mimetype": "text/x-python",
   "name": "python",
   "nbconvert_exporter": "python",
   "pygments_lexer": "ipython3",
   "version": "3.9.13"
  }
 },
 "nbformat": 4,
 "nbformat_minor": 5
}
